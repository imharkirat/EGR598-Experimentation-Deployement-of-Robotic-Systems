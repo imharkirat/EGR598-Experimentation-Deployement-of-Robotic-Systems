{
  "cells": [
    {
      "cell_type": "code",
      "execution_count": 30,
      "metadata": {
        "colab": {
          "base_uri": "https://localhost:8080/"
        },
        "id": "RZNJREotsJQW",
        "outputId": "0d525113-cf97-4009-965c-ab84e0ede8f9"
      },
      "outputs": [
        {
          "output_type": "stream",
          "name": "stdout",
          "text": [
            "Drive already mounted at /content/drive; to attempt to forcibly remount, call drive.mount(\"/content/drive\", force_remount=True).\n"
          ]
        }
      ],
      "source": [
        "from google.colab import drive\n",
        "drive.mount('/content/drive')"
      ]
    },
    {
      "cell_type": "markdown",
      "metadata": {
        "id": "HgZdiefgsL2B"
      },
      "source": [
        "# Getting the data"
      ]
    },
    {
      "cell_type": "code",
      "execution_count": 31,
      "metadata": {
        "id": "mmMDCM4vsTCk"
      },
      "outputs": [],
      "source": [
        "import pandas as pd\n",
        "import numpy as np\n",
        "import seaborn as sns\n",
        "import matplotlib.pyplot as plt"
      ]
    },
    {
      "cell_type": "code",
      "execution_count": 32,
      "metadata": {
        "id": "yj_RLfkes3-X"
      },
      "outputs": [],
      "source": [
        "# import zipfile\n",
        "# from tqdm import tqdm\n",
        "\n",
        "# zip_file_path = '/content/drive/MyDrive/data_egr598/main_data/maindata.zip'\n",
        "# extract_path = '/content/drive/MyDrive/data_egr598/main_data/'\n",
        "\n",
        "# with zipfile.ZipFile(zip_file_path, 'r') as zip_ref:\n",
        "#     files = zip_ref.namelist()\n",
        "#     for file in tqdm(files, desc=\"Extracting\", unit=\"files\"):\n",
        "#         zip_ref.extract(file, extract_path)"
      ]
    },
    {
      "cell_type": "code",
      "execution_count": 33,
      "metadata": {
        "id": "QgRQ5BTFsTIg"
      },
      "outputs": [],
      "source": [
        "df1=pd.read_csv('/content/drive/MyDrive/data_egr598/main_data/maindata/data_02/data.csv')\n",
        "df2=pd.read_csv('/content/drive/MyDrive/data_egr598/main_data/maindata/data_03/data.csv')\n",
        "df3=pd.read_csv('/content/drive/MyDrive/data_egr598/main_data/maindata/data_01/data.csv')\n"
      ]
    },
    {
      "cell_type": "code",
      "execution_count": 34,
      "metadata": {
        "colab": {
          "base_uri": "https://localhost:8080/"
        },
        "id": "x95HKwIHsTK1",
        "outputId": "960f302d-bc30-4c91-e76d-7fb0e74f74cb"
      },
      "outputs": [
        {
          "output_type": "stream",
          "name": "stderr",
          "text": [
            "<ipython-input-34-4894ade7b88f>:8: FutureWarning: The default value of regex will change from True to False in a future version.\n",
            "  df1['image_path'] = '/content/drive/MyDrive/data_egr598/main_data/maindata/data_02/' + df1['image_path'].str.replace('.png', '.png')\n",
            "<ipython-input-34-4894ade7b88f>:9: FutureWarning: The default value of regex will change from True to False in a future version.\n",
            "  df2['image_path'] = '/content/drive/MyDrive/data_egr598/main_data/maindata/data_03/' + df2['image_path'].str.replace('.png', '.png')\n",
            "<ipython-input-34-4894ade7b88f>:10: FutureWarning: The default value of regex will change from True to False in a future version.\n",
            "  df3['image_path'] = '/content/drive/MyDrive/data_egr598/main_data/maindata/data_01/' + df3['image_path'].str.replace('.png', '.png')\n"
          ]
        }
      ],
      "source": [
        "# Remove the 'data/' prefix from the image_path column\n",
        "df1['image_path'] = df1['image_path'].str.replace('data/', '')\n",
        "df2['image_path'] = df2['image_path'].str.replace('data/', '')\n",
        "df3['image_path'] = df3['image_path'].str.replace('data/', '')\n",
        "\n",
        "\n",
        "# Add the '/content/drive/MyDrive/data_egr598/' prefix to the image_path column\n",
        "df1['image_path'] = '/content/drive/MyDrive/data_egr598/main_data/maindata/data_02/' + df1['image_path'].str.replace('.png', '.png')\n",
        "df2['image_path'] = '/content/drive/MyDrive/data_egr598/main_data/maindata/data_03/' + df2['image_path'].str.replace('.png', '.png')\n",
        "df3['image_path'] = '/content/drive/MyDrive/data_egr598/main_data/maindata/data_01/' + df3['image_path'].str.replace('.png', '.png')"
      ]
    },
    {
      "cell_type": "code",
      "execution_count": 35,
      "metadata": {
        "id": "RvYJg554sTNd"
      },
      "outputs": [],
      "source": [
        "# Add a column to each dataframe to indicate the source\n",
        "df1['source'] = 'data_02'\n",
        "df2['source'] = 'data_03'\n",
        "df3['source'] = 'data_01'"
      ]
    },
    {
      "cell_type": "code",
      "execution_count": 36,
      "metadata": {
        "colab": {
          "base_uri": "https://localhost:8080/",
          "height": 206
        },
        "id": "9G76wzYpsTQU",
        "outputId": "63edfbc2-7704-4918-a32f-9e1fcb604a73"
      },
      "outputs": [
        {
          "output_type": "execute_result",
          "data": {
            "text/plain": [
              "      timestamp                                         image_path  linear_x  \\\n",
              "0  1.681957e+09  /content/drive/MyDrive/data_egr598/main_data/m...       0.0   \n",
              "1  1.681957e+09  /content/drive/MyDrive/data_egr598/main_data/m...       0.0   \n",
              "2  1.681957e+09  /content/drive/MyDrive/data_egr598/main_data/m...       0.0   \n",
              "3  1.681957e+09  /content/drive/MyDrive/data_egr598/main_data/m...       0.0   \n",
              "4  1.681957e+09  /content/drive/MyDrive/data_egr598/main_data/m...       0.0   \n",
              "\n",
              "   angular_z   source  \n",
              "0        0.0  data_02  \n",
              "1        0.0  data_02  \n",
              "2        0.0  data_02  \n",
              "3        0.0  data_02  \n",
              "4        0.0  data_02  "
            ],
            "text/html": [
              "\n",
              "  <div id=\"df-35d06e8a-5191-4429-a1b9-74f727557b76\">\n",
              "    <div class=\"colab-df-container\">\n",
              "      <div>\n",
              "<style scoped>\n",
              "    .dataframe tbody tr th:only-of-type {\n",
              "        vertical-align: middle;\n",
              "    }\n",
              "\n",
              "    .dataframe tbody tr th {\n",
              "        vertical-align: top;\n",
              "    }\n",
              "\n",
              "    .dataframe thead th {\n",
              "        text-align: right;\n",
              "    }\n",
              "</style>\n",
              "<table border=\"1\" class=\"dataframe\">\n",
              "  <thead>\n",
              "    <tr style=\"text-align: right;\">\n",
              "      <th></th>\n",
              "      <th>timestamp</th>\n",
              "      <th>image_path</th>\n",
              "      <th>linear_x</th>\n",
              "      <th>angular_z</th>\n",
              "      <th>source</th>\n",
              "    </tr>\n",
              "  </thead>\n",
              "  <tbody>\n",
              "    <tr>\n",
              "      <th>0</th>\n",
              "      <td>1.681957e+09</td>\n",
              "      <td>/content/drive/MyDrive/data_egr598/main_data/m...</td>\n",
              "      <td>0.0</td>\n",
              "      <td>0.0</td>\n",
              "      <td>data_02</td>\n",
              "    </tr>\n",
              "    <tr>\n",
              "      <th>1</th>\n",
              "      <td>1.681957e+09</td>\n",
              "      <td>/content/drive/MyDrive/data_egr598/main_data/m...</td>\n",
              "      <td>0.0</td>\n",
              "      <td>0.0</td>\n",
              "      <td>data_02</td>\n",
              "    </tr>\n",
              "    <tr>\n",
              "      <th>2</th>\n",
              "      <td>1.681957e+09</td>\n",
              "      <td>/content/drive/MyDrive/data_egr598/main_data/m...</td>\n",
              "      <td>0.0</td>\n",
              "      <td>0.0</td>\n",
              "      <td>data_02</td>\n",
              "    </tr>\n",
              "    <tr>\n",
              "      <th>3</th>\n",
              "      <td>1.681957e+09</td>\n",
              "      <td>/content/drive/MyDrive/data_egr598/main_data/m...</td>\n",
              "      <td>0.0</td>\n",
              "      <td>0.0</td>\n",
              "      <td>data_02</td>\n",
              "    </tr>\n",
              "    <tr>\n",
              "      <th>4</th>\n",
              "      <td>1.681957e+09</td>\n",
              "      <td>/content/drive/MyDrive/data_egr598/main_data/m...</td>\n",
              "      <td>0.0</td>\n",
              "      <td>0.0</td>\n",
              "      <td>data_02</td>\n",
              "    </tr>\n",
              "  </tbody>\n",
              "</table>\n",
              "</div>\n",
              "      <button class=\"colab-df-convert\" onclick=\"convertToInteractive('df-35d06e8a-5191-4429-a1b9-74f727557b76')\"\n",
              "              title=\"Convert this dataframe to an interactive table.\"\n",
              "              style=\"display:none;\">\n",
              "        \n",
              "  <svg xmlns=\"http://www.w3.org/2000/svg\" height=\"24px\"viewBox=\"0 0 24 24\"\n",
              "       width=\"24px\">\n",
              "    <path d=\"M0 0h24v24H0V0z\" fill=\"none\"/>\n",
              "    <path d=\"M18.56 5.44l.94 2.06.94-2.06 2.06-.94-2.06-.94-.94-2.06-.94 2.06-2.06.94zm-11 1L8.5 8.5l.94-2.06 2.06-.94-2.06-.94L8.5 2.5l-.94 2.06-2.06.94zm10 10l.94 2.06.94-2.06 2.06-.94-2.06-.94-.94-2.06-.94 2.06-2.06.94z\"/><path d=\"M17.41 7.96l-1.37-1.37c-.4-.4-.92-.59-1.43-.59-.52 0-1.04.2-1.43.59L10.3 9.45l-7.72 7.72c-.78.78-.78 2.05 0 2.83L4 21.41c.39.39.9.59 1.41.59.51 0 1.02-.2 1.41-.59l7.78-7.78 2.81-2.81c.8-.78.8-2.07 0-2.86zM5.41 20L4 18.59l7.72-7.72 1.47 1.35L5.41 20z\"/>\n",
              "  </svg>\n",
              "      </button>\n",
              "      \n",
              "  <style>\n",
              "    .colab-df-container {\n",
              "      display:flex;\n",
              "      flex-wrap:wrap;\n",
              "      gap: 12px;\n",
              "    }\n",
              "\n",
              "    .colab-df-convert {\n",
              "      background-color: #E8F0FE;\n",
              "      border: none;\n",
              "      border-radius: 50%;\n",
              "      cursor: pointer;\n",
              "      display: none;\n",
              "      fill: #1967D2;\n",
              "      height: 32px;\n",
              "      padding: 0 0 0 0;\n",
              "      width: 32px;\n",
              "    }\n",
              "\n",
              "    .colab-df-convert:hover {\n",
              "      background-color: #E2EBFA;\n",
              "      box-shadow: 0px 1px 2px rgba(60, 64, 67, 0.3), 0px 1px 3px 1px rgba(60, 64, 67, 0.15);\n",
              "      fill: #174EA6;\n",
              "    }\n",
              "\n",
              "    [theme=dark] .colab-df-convert {\n",
              "      background-color: #3B4455;\n",
              "      fill: #D2E3FC;\n",
              "    }\n",
              "\n",
              "    [theme=dark] .colab-df-convert:hover {\n",
              "      background-color: #434B5C;\n",
              "      box-shadow: 0px 1px 3px 1px rgba(0, 0, 0, 0.15);\n",
              "      filter: drop-shadow(0px 1px 2px rgba(0, 0, 0, 0.3));\n",
              "      fill: #FFFFFF;\n",
              "    }\n",
              "  </style>\n",
              "\n",
              "      <script>\n",
              "        const buttonEl =\n",
              "          document.querySelector('#df-35d06e8a-5191-4429-a1b9-74f727557b76 button.colab-df-convert');\n",
              "        buttonEl.style.display =\n",
              "          google.colab.kernel.accessAllowed ? 'block' : 'none';\n",
              "\n",
              "        async function convertToInteractive(key) {\n",
              "          const element = document.querySelector('#df-35d06e8a-5191-4429-a1b9-74f727557b76');\n",
              "          const dataTable =\n",
              "            await google.colab.kernel.invokeFunction('convertToInteractive',\n",
              "                                                     [key], {});\n",
              "          if (!dataTable) return;\n",
              "\n",
              "          const docLinkHtml = 'Like what you see? Visit the ' +\n",
              "            '<a target=\"_blank\" href=https://colab.research.google.com/notebooks/data_table.ipynb>data table notebook</a>'\n",
              "            + ' to learn more about interactive tables.';\n",
              "          element.innerHTML = '';\n",
              "          dataTable['output_type'] = 'display_data';\n",
              "          await google.colab.output.renderOutput(dataTable, element);\n",
              "          const docLink = document.createElement('div');\n",
              "          docLink.innerHTML = docLinkHtml;\n",
              "          element.appendChild(docLink);\n",
              "        }\n",
              "      </script>\n",
              "    </div>\n",
              "  </div>\n",
              "  "
            ]
          },
          "metadata": {},
          "execution_count": 36
        }
      ],
      "source": [
        "# Combine the dataframes into one dataframe\n",
        "df = pd.concat([df1, df2, df3], ignore_index=True)\n",
        "df.head()"
      ]
    },
    {
      "cell_type": "code",
      "execution_count": 37,
      "metadata": {
        "colab": {
          "base_uri": "https://localhost:8080/",
          "height": 468
        },
        "id": "55YJhvSytdv6",
        "outputId": "2bc4cc1b-e619-45dc-8e7c-2a1c17258317"
      },
      "outputs": [
        {
          "output_type": "execute_result",
          "data": {
            "text/plain": [
              "<Axes: xlabel='angular_z', ylabel='Count'>"
            ]
          },
          "metadata": {},
          "execution_count": 37
        },
        {
          "output_type": "display_data",
          "data": {
            "text/plain": [
              "<Figure size 640x480 with 1 Axes>"
            ],
            "image/png": "[encoded data removed]"
          },
          "metadata": {}
        }
      ],
      "source": [
        "# Plot the histogram using Seaborn\n",
        "sns.histplot(data=df, x='angular_z')"
      ]
    },
    {
      "cell_type": "code",
      "execution_count": 38,
      "metadata": {
        "colab": {
          "base_uri": "https://localhost:8080/"
        },
        "id": "RAXqMyujtq1n",
        "outputId": "fad9895d-7643-4194-ac52-ea07054ab372"
      },
      "outputs": [
        {
          "output_type": "execute_result",
          "data": {
            "text/plain": [
              " 0.000000    4448\n",
              "-0.079766     587\n",
              " 0.079766     491\n",
              "Name: angular_z, dtype: int64"
            ]
          },
          "metadata": {},
          "execution_count": 38
        }
      ],
      "source": [
        "df['angular_z'].value_counts()"
      ]
    },
    {
      "cell_type": "code",
      "execution_count": 39,
      "metadata": {
        "id": "BS3ueDz3tyIC"
      },
      "outputs": [],
      "source": [
        "# Get 1200 samples for each unique value of angular_z, except for 0.00000\n",
        "sample_size = 450\n",
        "unique_z = df['angular_z'].unique()\n",
        "\n",
        "sampled_data = pd.concat([\n",
        "    df[df['angular_z'] == z].sample(n=sample_size, random_state=42, replace=True)\n",
        "    if z != 0.0 else\n",
        "    df[df['angular_z'] == z].sample(n=900, random_state=42, replace=True)\n",
        "    for z in unique_z\n",
        "])\n",
        "\n",
        "# Reset the index of the sampled data\n",
        "sampled_data = sampled_data.reset_index(drop=True)"
      ]
    },
    {
      "cell_type": "code",
      "execution_count": 40,
      "metadata": {
        "colab": {
          "base_uri": "https://localhost:8080/"
        },
        "id": "95TPJLL9u0tq",
        "outputId": "354e4f2f-2b91-4607-9979-32d3b90a21eb"
      },
      "outputs": [
        {
          "output_type": "execute_result",
          "data": {
            "text/plain": [
              " 0.000000    900\n",
              " 0.079766    450\n",
              "-0.079766    450\n",
              "Name: angular_z, dtype: int64"
            ]
          },
          "metadata": {},
          "execution_count": 40
        }
      ],
      "source": [
        "sampled_data['angular_z'].value_counts()"
      ]
    },
    {
      "cell_type": "code",
      "execution_count": 41,
      "metadata": {
        "colab": {
          "base_uri": "https://localhost:8080/",
          "height": 468
        },
        "id": "iBFFh5LevHAg",
        "outputId": "75f222a6-8cd0-4c4d-9074-0cf06e70d190"
      },
      "outputs": [
        {
          "output_type": "execute_result",
          "data": {
            "text/plain": [
              "<Axes: xlabel='angular_z', ylabel='Count'>"
            ]
          },
          "metadata": {},
          "execution_count": 41
        },
        {
          "output_type": "display_data",
          "data": {
            "text/plain": [
              "<Figure size 640x480 with 1 Axes>"
            ],
            "image/png": "[encoded data removed]"
          },
          "metadata": {}
        }
      ],
      "source": [
        "# Plot the histogram using Seaborn\n",
        "sns.histplot(data=sampled_data, x='angular_z')"
      ]
    },
    {
      "cell_type": "markdown",
      "metadata": {
        "id": "t_YVEIQHwc0U"
      },
      "source": [
        "# View & process the images"
      ]
    },
    {
      "cell_type": "code",
      "execution_count": 12,
      "metadata": {
        "id": "jw01QWYhwc2c"
      },
      "outputs": [],
      "source": []
    },
    {
      "cell_type": "code",
      "execution_count": 12,
      "metadata": {
        "id": "6JFenGj9wc4i"
      },
      "outputs": [],
      "source": []
    },
    {
      "cell_type": "markdown",
      "metadata": {
        "id": "KqMOzsIJwc64"
      },
      "source": [
        "# Build the model"
      ]
    },
    {
      "cell_type": "code",
      "execution_count": 13,
      "metadata": {
        "colab": {
          "base_uri": "https://localhost:8080/"
        },
        "id": "hX6FkoO4wc8-",
        "outputId": "51d0a74f-0469-4bfc-e02f-92d67f091fff"
      },
      "outputs": [
        {
          "output_type": "stream",
          "name": "stdout",
          "text": [
            "<class 'pandas.core.frame.DataFrame'>\n",
            "RangeIndex: 1800 entries, 0 to 1799\n",
            "Data columns (total 5 columns):\n",
            " #   Column      Non-Null Count  Dtype  \n",
            "---  ------      --------------  -----  \n",
            " 0   timestamp   1800 non-null   float64\n",
            " 1   image_path  1800 non-null   object \n",
            " 2   linear_x    1800 non-null   float64\n",
            " 3   angular_z   1800 non-null   float64\n",
            " 4   source      1800 non-null   object \n",
            "dtypes: float64(3), object(2)\n",
            "memory usage: 70.4+ KB\n"
          ]
        }
      ],
      "source": [
        "sampled_data.info()"
      ]
    },
    {
      "cell_type": "code",
      "execution_count": 14,
      "metadata": {
        "id": "kKOmYyRkwc_T",
        "colab": {
          "base_uri": "https://localhost:8080/"
        },
        "outputId": "b2cf4a17-afb3-4430-b7d1-ff600f5a6fb8"
      },
      "outputs": [
        {
          "output_type": "stream",
          "name": "stderr",
          "text": [
            "Processing images: 100%|██████████| 1800/1800 [00:44<00:00, 40.27it/s]\n"
          ]
        },
        {
          "output_type": "stream",
          "name": "stdout",
          "text": [
            "Model: \"sequential\"\n",
            "_________________________________________________________________\n",
            " Layer (type)                Output Shape              Param #   \n",
            "=================================================================\n",
            " conv2d (Conv2D)             (None, 222, 222, 32)      896       \n",
            "                                                                 \n",
            " max_pooling2d (MaxPooling2D  (None, 111, 111, 32)     0         \n",
            " )                                                               \n",
            "                                                                 \n",
            " conv2d_1 (Conv2D)           (None, 109, 109, 64)      18496     \n",
            "                                                                 \n",
            " max_pooling2d_1 (MaxPooling  (None, 54, 54, 64)       0         \n",
            " 2D)                                                             \n",
            "                                                                 \n",
            " conv2d_2 (Conv2D)           (None, 52, 52, 128)       73856     \n",
            "                                                                 \n",
            " max_pooling2d_2 (MaxPooling  (None, 26, 26, 128)      0         \n",
            " 2D)                                                             \n",
            "                                                                 \n",
            " flatten (Flatten)           (None, 86528)             0         \n",
            "                                                                 \n",
            " dense (Dense)               (None, 512)               44302848  \n",
            "                                                                 \n",
            " dropout (Dropout)           (None, 512)               0         \n",
            "                                                                 \n",
            " dense_1 (Dense)             (None, 3)                 1539      \n",
            "                                                                 \n",
            "=================================================================\n",
            "Total params: 44,397,635\n",
            "Trainable params: 44,397,635\n",
            "Non-trainable params: 0\n",
            "_________________________________________________________________\n",
            "Epoch 1/10\n",
            "45/45 [==============================] - 18s 84ms/step - loss: 1.0345 - accuracy: 0.5556 - val_loss: 0.5848 - val_accuracy: 0.7056\n",
            "Epoch 2/10\n",
            "45/45 [==============================] - 3s 63ms/step - loss: 0.4133 - accuracy: 0.8250 - val_loss: 0.2604 - val_accuracy: 0.8944\n",
            "Epoch 3/10\n",
            "45/45 [==============================] - 3s 67ms/step - loss: 0.2213 - accuracy: 0.9222 - val_loss: 0.2167 - val_accuracy: 0.9222\n",
            "Epoch 4/10\n",
            "45/45 [==============================] - 3s 63ms/step - loss: 0.1754 - accuracy: 0.9417 - val_loss: 0.1898 - val_accuracy: 0.9583\n",
            "Epoch 5/10\n",
            "45/45 [==============================] - 3s 62ms/step - loss: 0.1535 - accuracy: 0.9472 - val_loss: 0.1827 - val_accuracy: 0.9528\n",
            "Epoch 6/10\n",
            "45/45 [==============================] - 3s 62ms/step - loss: 0.1359 - accuracy: 0.9556 - val_loss: 0.1998 - val_accuracy: 0.9472\n",
            "Epoch 7/10\n",
            "45/45 [==============================] - 3s 64ms/step - loss: 0.0994 - accuracy: 0.9660 - val_loss: 0.1630 - val_accuracy: 0.9583\n",
            "Epoch 8/10\n",
            "45/45 [==============================] - 3s 68ms/step - loss: 0.0873 - accuracy: 0.9660 - val_loss: 0.1734 - val_accuracy: 0.9556\n",
            "Epoch 9/10\n",
            "45/45 [==============================] - 3s 65ms/step - loss: 0.0923 - accuracy: 0.9694 - val_loss: 0.1592 - val_accuracy: 0.9667\n",
            "Epoch 10/10\n",
            "45/45 [==============================] - 3s 64ms/step - loss: 0.0900 - accuracy: 0.9701 - val_loss: 0.1549 - val_accuracy: 0.9639\n"
          ]
        }
      ],
      "source": [
        "import numpy as np\n",
        "import pandas as pd\n",
        "from sklearn.model_selection import train_test_split\n",
        "from sklearn.preprocessing import LabelEncoder\n",
        "from tensorflow.keras.preprocessing.image import load_img, img_to_array\n",
        "from tensorflow.keras.utils import to_categorical\n",
        "import tensorflow as tf\n",
        "from tensorflow.keras.models import Sequential\n",
        "from tensorflow.keras.layers import Conv2D, MaxPooling2D, Flatten, Dense, Dropout\n",
        "from tqdm import tqdm  # Import the tqdm library\n",
        "from concurrent.futures import ThreadPoolExecutor\n",
        "\n",
        "# Preprocess the images\n",
        "def preprocess_image(image_path, target_size=(224, 224)):\n",
        "    img = load_img(image_path, target_size=target_size)\n",
        "    img_array = img_to_array(img) / 255.0\n",
        "    return img_array\n",
        "\n",
        "# Process images in parallel\n",
        "def process_images_parallel(image_paths, target_size=(224, 224)):\n",
        "    with ThreadPoolExecutor() as executor:\n",
        "        futures = [executor.submit(preprocess_image, img_path, target_size) for img_path in image_paths]\n",
        "        results = [f.result() for f in tqdm(futures, desc=\"Processing images\")]\n",
        "    return results\n",
        "\n",
        "images = np.array(process_images_parallel(sampled_data[\"image_path\"]))\n",
        "\n",
        "# Preprocess the labels\n",
        "label_encoder = LabelEncoder()\n",
        "labels = label_encoder.fit_transform(sampled_data[\"angular_z\"])\n",
        "labels = to_categorical(labels)\n",
        "\n",
        "# Split the data into train and validation sets\n",
        "X_train, X_val, y_train, y_val = train_test_split(images, labels, test_size=0.2, random_state=42)\n",
        "\n",
        "model = Sequential([\n",
        "    Conv2D(32, kernel_size=(3, 3), activation='relu', input_shape=(224, 224, 3)),\n",
        "    MaxPooling2D(pool_size=(2, 2)),\n",
        "    Conv2D(64, kernel_size=(3, 3), activation='relu'),\n",
        "    MaxPooling2D(pool_size=(2, 2)),\n",
        "    Conv2D(128, kernel_size=(3, 3), activation='relu'),\n",
        "    MaxPooling2D(pool_size=(2, 2)),\n",
        "    Flatten(),\n",
        "    Dense(512, activation='relu'),\n",
        "    Dropout(0.5),\n",
        "    Dense(3, activation='softmax')  # We have 3 distinct labels\n",
        "])\n",
        "\n",
        "model.summary()\n",
        "\n",
        "# Compile the model\n",
        "model.compile(optimizer='adam', loss='categorical_crossentropy', metrics=['accuracy'])\n",
        "\n",
        "# Train the model\n",
        "history = model.fit(X_train, y_train, batch_size=32, epochs=10, validation_data=(X_val, y_val))"
      ]
    },
    {
      "cell_type": "code",
      "source": [
        "# Save the model\n",
        "model.save(\"my_model.h5\")"
      ],
      "metadata": {
        "id": "Yo9d09W0K5Rn"
      },
      "execution_count": 15,
      "outputs": []
    },
    {
      "cell_type": "code",
      "source": [
        "# Evaluate the model on the validation set\n",
        "validation_loss, validation_accuracy = model.evaluate(X_val, y_val)\n",
        "\n",
        "print(\"Validation Loss:\", validation_loss)\n",
        "print(\"Validation Accuracy:\", validation_accuracy)\n",
        "\n",
        "# Predict the angular_z values for the validation images\n",
        "y_val_pred_prob = model.predict(X_val)\n",
        "\n",
        "# Convert the predictions to label indices\n",
        "y_val_pred_indices = np.argmax(y_val_pred_prob, axis=1)\n",
        "\n",
        "# Convert the label indices back to original angular_z values\n",
        "y_val_pred = label_encoder.inverse_transform(y_val_pred_indices)\n",
        "\n",
        "# Convert the one-hot encoded y_val back to original angular_z values\n",
        "y_val_original = label_encoder.inverse_transform(np.argmax(y_val, axis=1))\n",
        "\n",
        "# Calculate the accuracy\n",
        "accuracy = np.mean(y_val_original == y_val_pred)\n",
        "print(f\"Accuracy on validation set: {accuracy:.2%}\")\n",
        "\n",
        "# Compare the actual angular_z with the predicted angular_z\n",
        "comparison = pd.DataFrame({\"Actual\": y_val_original, \"Predicted\": y_val_pred})\n",
        "print(comparison.head())\n"
      ],
      "metadata": {
        "colab": {
          "base_uri": "https://localhost:8080/"
        },
        "id": "jlFKu_u_Kjts",
        "outputId": "80407c42-0883-444f-85e0-dc7435fb28d0"
      },
      "execution_count": 16,
      "outputs": [
        {
          "output_type": "stream",
          "name": "stdout",
          "text": [
            "12/12 [==============================] - 0s 26ms/step - loss: 0.1549 - accuracy: 0.9639\n",
            "Validation Loss: 0.15486732125282288\n",
            "Validation Accuracy: 0.9638888835906982\n",
            "12/12 [==============================] - 0s 23ms/step\n",
            "Accuracy on validation set: 96.39%\n",
            "     Actual  Predicted\n",
            "0 -0.079766  -0.079766\n",
            "1  0.079766   0.079766\n",
            "2  0.000000   0.000000\n",
            "3  0.000000   0.000000\n",
            "4  0.079766   0.079766\n"
          ]
        }
      ]
    },
    {
      "cell_type": "markdown",
      "source": [
        "## Test the base model"
      ],
      "metadata": {
        "id": "JYW2GdsrNVnw"
      }
    },
    {
      "cell_type": "code",
      "source": [
        "test_df=pd.read_csv('/content/drive/MyDrive/data_egr598/main_data/maindata/data/data.csv')\n",
        "\n",
        "# Remove the 'data/' prefix from the image_path column\n",
        "test_df['image_path'] = test_df['image_path'].str.replace('data/', '')\n",
        "\n",
        "\n",
        "# Add the '/content/drive/MyDrive/data_egr598/' prefix to the image_path column\n",
        "test_df['image_path'] = '/content/drive/MyDrive/data_egr598/main_data/maindata/data/' + test_df['image_path'].str.replace('.png', '.png')\n"
      ],
      "metadata": {
        "colab": {
          "base_uri": "https://localhost:8080/"
        },
        "id": "0T-xOzDPKtrd",
        "outputId": "41b22a14-cc1d-488f-fae0-6dd8fa840f20"
      },
      "execution_count": 17,
      "outputs": [
        {
          "output_type": "stream",
          "name": "stderr",
          "text": [
            "<ipython-input-17-14c3dd6479d6>:8: FutureWarning: The default value of regex will change from True to False in a future version.\n",
            "  test_df['image_path'] = '/content/drive/MyDrive/data_egr598/main_data/maindata/data/' + test_df['image_path'].str.replace('.png', '.png')\n"
          ]
        }
      ]
    },
    {
      "cell_type": "code",
      "source": [
        "import pandas as pd\n",
        "import numpy as np\n",
        "from sklearn.preprocessing import LabelEncoder\n",
        "from sklearn.metrics import accuracy_score\n",
        "from tensorflow.keras.preprocessing.image import load_img, img_to_array\n",
        "from tensorflow.keras.utils import to_categorical\n",
        "from tqdm import tqdm  # Import the tqdm library\n",
        "from concurrent.futures import ThreadPoolExecutor\n",
        "\n",
        "# Preprocess the images\n",
        "def preprocess_image(image_path, target_size=(224, 224)):\n",
        "    img = load_img(image_path, target_size=target_size)\n",
        "    img_array = img_to_array(img) / 255.0\n",
        "    return img_array\n",
        "\n",
        "# Process images in parallel\n",
        "def process_images_parallel(image_paths, target_size=(224, 224)):\n",
        "    with ThreadPoolExecutor() as executor:\n",
        "        futures = [executor.submit(preprocess_image, img_path, target_size) for img_path in image_paths]\n",
        "        results = [f.result() for f in tqdm(futures, desc=\"Processing images\")]\n",
        "    return results\n",
        "\n",
        "images = np.array(process_images_parallel(test_df[\"image_path\"]))\n",
        "\n",
        "# Preprocess the labels\n",
        "label_encoder = LabelEncoder()\n",
        "labels = label_encoder.fit_transform(test_df[\"angular_z\"])\n",
        "labels = to_categorical(labels)\n",
        "\n",
        "# Assuming the images are loaded and preprocessed into X_test and corresponding angular_z values are in y_test\n",
        "X_test, y_test = images, labels\n",
        "\n",
        "# Predict the angular_z values for the test images\n",
        "y_test_pred_prob = model.predict(X_test)\n",
        "\n",
        "# Convert the predictions to label indices\n",
        "y_test_pred_indices = np.argmax(y_test_pred_prob, axis=1)\n",
        "\n",
        "# Convert the label indices back to original angular_z values\n",
        "y_test_pred = label_encoder.inverse_transform(y_test_pred_indices)\n",
        "\n",
        "# Convert the one-hot encoded y_test back to original angular_z values\n",
        "y_test_original = label_encoder.inverse_transform(np.argmax(y_test, axis=1))\n",
        "\n",
        "# Calculate the accuracy\n",
        "accuracy = np.mean(y_test_original == y_test_pred)\n",
        "print(f\"Accuracy on test set: {accuracy:.2%}\")\n",
        "\n",
        "# Compare the actual angular_z with the predicted angular_z\n",
        "comparison = pd.DataFrame({\"Actual\": y_test_original, \"Predicted\": y_test_pred})\n",
        "print(comparison.head())"
      ],
      "metadata": {
        "colab": {
          "base_uri": "https://localhost:8080/"
        },
        "id": "WxJSK0qOK-Wk",
        "outputId": "a4daaaf0-1272-47f1-e53d-0fd2495ee6d3"
      },
      "execution_count": 18,
      "outputs": [
        {
          "output_type": "stream",
          "name": "stderr",
          "text": [
            "Processing images: 100%|██████████| 1798/1798 [00:51<00:00, 34.73it/s]\n"
          ]
        },
        {
          "output_type": "stream",
          "name": "stdout",
          "text": [
            "57/57 [==============================] - 1s 21ms/step\n",
            "Accuracy on test set: 77.70%\n",
            "   Actual  Predicted\n",
            "0     0.0        0.0\n",
            "1     0.0        0.0\n",
            "2     0.0        0.0\n",
            "3     0.0        0.0\n",
            "4     0.0        0.0\n"
          ]
        }
      ]
    },
    {
      "cell_type": "markdown",
      "metadata": {
        "id": "Fw4I3VtYVwQK"
      },
      "source": [
        "# Transfer learning model"
      ]
    },
    {
      "cell_type": "code",
      "execution_count": 42,
      "metadata": {
        "colab": {
          "base_uri": "https://localhost:8080/"
        },
        "id": "s3cpm31pVzHO",
        "outputId": "c3de2e47-4995-469b-8eb1-04738a47c494"
      },
      "outputs": [
        {
          "output_type": "stream",
          "name": "stdout",
          "text": [
            "Model: \"sequential_2\"\n",
            "_________________________________________________________________\n",
            " Layer (type)                Output Shape              Param #   \n",
            "=================================================================\n",
            " vgg16 (Functional)          (None, 7, 7, 512)         14714688  \n",
            "                                                                 \n",
            " flatten_2 (Flatten)         (None, 25088)             0         \n",
            "                                                                 \n",
            " dense_4 (Dense)             (None, 512)               12845568  \n",
            "                                                                 \n",
            " dropout_2 (Dropout)         (None, 512)               0         \n",
            "                                                                 \n",
            " dense_5 (Dense)             (None, 3)                 1539      \n",
            "                                                                 \n",
            "=================================================================\n",
            "Total params: 27,561,795\n",
            "Trainable params: 12,847,107\n",
            "Non-trainable params: 14,714,688\n",
            "_________________________________________________________________\n",
            "Epoch 1/20\n",
            "45/45 [==============================] - 23s 476ms/step - loss: 2.6805 - accuracy: 0.4688 - val_loss: 0.6652 - val_accuracy: 0.7417 - lr: 0.0010\n",
            "Epoch 2/20\n",
            "45/45 [==============================] - 22s 480ms/step - loss: 0.7587 - accuracy: 0.6569 - val_loss: 0.5157 - val_accuracy: 0.8056 - lr: 0.0010\n",
            "Epoch 3/20\n",
            "45/45 [==============================] - 21s 468ms/step - loss: 0.6814 - accuracy: 0.7014 - val_loss: 0.4808 - val_accuracy: 0.7750 - lr: 0.0010\n",
            "Epoch 4/20\n",
            "45/45 [==============================] - 22s 478ms/step - loss: 0.5924 - accuracy: 0.7458 - val_loss: 0.4103 - val_accuracy: 0.8833 - lr: 0.0010\n",
            "Epoch 5/20\n",
            "45/45 [==============================] - 21s 475ms/step - loss: 0.5351 - accuracy: 0.7799 - val_loss: 0.3729 - val_accuracy: 0.8389 - lr: 0.0010\n",
            "Epoch 6/20\n",
            "45/45 [==============================] - 20s 441ms/step - loss: 0.5221 - accuracy: 0.7764 - val_loss: 0.3697 - val_accuracy: 0.8611 - lr: 9.0484e-04\n",
            "Epoch 7/20\n",
            "45/45 [==============================] - 22s 479ms/step - loss: 0.4912 - accuracy: 0.7889 - val_loss: 0.3634 - val_accuracy: 0.8389 - lr: 8.1873e-04\n",
            "Epoch 8/20\n",
            "45/45 [==============================] - 21s 470ms/step - loss: 0.4818 - accuracy: 0.7875 - val_loss: 0.3631 - val_accuracy: 0.8806 - lr: 7.4082e-04\n",
            "Epoch 9/20\n",
            "45/45 [==============================] - 21s 470ms/step - loss: 0.4697 - accuracy: 0.7847 - val_loss: 0.3822 - val_accuracy: 0.8611 - lr: 6.7032e-04\n",
            "Epoch 10/20\n",
            "45/45 [==============================] - 20s 452ms/step - loss: 0.4253 - accuracy: 0.8313 - val_loss: 0.2890 - val_accuracy: 0.8917 - lr: 6.0653e-04\n",
            "Epoch 11/20\n",
            "45/45 [==============================] - 22s 495ms/step - loss: 0.4269 - accuracy: 0.8062 - val_loss: 0.2833 - val_accuracy: 0.8806 - lr: 5.4881e-04\n",
            "Epoch 12/20\n",
            "45/45 [==============================] - 21s 461ms/step - loss: 0.4108 - accuracy: 0.8236 - val_loss: 0.2979 - val_accuracy: 0.8778 - lr: 4.9659e-04\n",
            "Epoch 13/20\n",
            "45/45 [==============================] - 20s 434ms/step - loss: 0.3892 - accuracy: 0.8313 - val_loss: 0.2448 - val_accuracy: 0.8806 - lr: 4.4933e-04\n",
            "Epoch 14/20\n",
            "45/45 [==============================] - 21s 467ms/step - loss: 0.3656 - accuracy: 0.8556 - val_loss: 0.3043 - val_accuracy: 0.8833 - lr: 4.0657e-04\n",
            "Epoch 15/20\n",
            "45/45 [==============================] - 21s 475ms/step - loss: 0.3676 - accuracy: 0.8514 - val_loss: 0.2889 - val_accuracy: 0.8722 - lr: 3.6788e-04\n",
            "Epoch 16/20\n",
            "45/45 [==============================] - 22s 485ms/step - loss: 0.3735 - accuracy: 0.8444 - val_loss: 0.2685 - val_accuracy: 0.8722 - lr: 3.3287e-04\n",
            "Epoch 17/20\n",
            "45/45 [==============================] - 20s 443ms/step - loss: 0.3569 - accuracy: 0.8597 - val_loss: 0.2673 - val_accuracy: 0.8861 - lr: 3.0119e-04\n",
            "Epoch 18/20\n",
            "45/45 [==============================] - 20s 450ms/step - loss: 0.3469 - accuracy: 0.8521 - val_loss: 0.2800 - val_accuracy: 0.9028 - lr: 2.7253e-04\n"
          ]
        }
      ],
      "source": [
        "from tensorflow.keras.preprocessing.image import ImageDataGenerator\n",
        "from tensorflow.keras.callbacks import LearningRateScheduler, EarlyStopping\n",
        "from tensorflow.keras.applications import VGG16\n",
        "\n",
        "\n",
        "# Load the VGG16 model\n",
        "base_model = VGG16(weights=\"imagenet\", include_top=False, input_shape=(224, 224, 3))\n",
        "\n",
        "# Freeze the pre-trained layers\n",
        "for layer in base_model.layers:\n",
        "    layer.trainable = False\n",
        "\n",
        "model = Sequential([\n",
        "    base_model,\n",
        "    Flatten(),\n",
        "    Dense(512, activation='relu'),\n",
        "    Dropout(0.5),\n",
        "    Dense(3, activation='softmax')  # We have 3 distinct labels\n",
        "])\n",
        "\n",
        "model.summary()\n",
        "\n",
        "# Data augmentation\n",
        "datagen = ImageDataGenerator(\n",
        "    rotation_range=20,\n",
        "    width_shift_range=0.1,\n",
        "    height_shift_range=0.1,\n",
        "    shear_range=0.2,\n",
        "    zoom_range=0.2,\n",
        "    horizontal_flip=True,\n",
        "    fill_mode='nearest')\n",
        "\n",
        "# Learning rate scheduling\n",
        "def lr_scheduler(epoch, lr):\n",
        "    if epoch < 5:\n",
        "        return lr\n",
        "    else:\n",
        "        return lr * tf.math.exp(-0.1)\n",
        "\n",
        "lr_callback = LearningRateScheduler(lr_scheduler)\n",
        "\n",
        "# Early stopping\n",
        "early_stopping = EarlyStopping(monitor='val_loss', patience=5)\n",
        "\n",
        "# Compile the model\n",
        "model.compile(optimizer='adam', loss='categorical_crossentropy', metrics=['accuracy'])\n",
        "\n",
        "# Train the model\n",
        "history = model.fit(datagen.flow(X_train, y_train, batch_size=32),\n",
        "                    epochs=20,\n",
        "                    validation_data=(X_val, y_val),\n",
        "                    callbacks=[lr_callback, early_stopping])\n"
      ]
    },
    {
      "cell_type": "code",
      "source": [
        "# Save the model\n",
        "model.save(\"my_model_transfer.h5\")"
      ],
      "metadata": {
        "id": "8ruAGdKnLELS"
      },
      "execution_count": 46,
      "outputs": []
    },
    {
      "cell_type": "code",
      "execution_count": 47,
      "metadata": {
        "colab": {
          "base_uri": "https://localhost:8080/"
        },
        "id": "54JiZnJawdBp",
        "outputId": "c3f44fc6-aa26-4261-8663-f8cd82c1e622"
      },
      "outputs": [
        {
          "output_type": "stream",
          "name": "stdout",
          "text": [
            "12/12 [==============================] - 2s 124ms/step - loss: 0.2800 - accuracy: 0.9028\n",
            "Validation Loss: 0.27999863028526306\n",
            "Validation Accuracy: 0.9027777910232544\n"
          ]
        }
      ],
      "source": [
        "# Evaluate the model on the validation set\n",
        "validation_loss, validation_accuracy = model.evaluate(X_val, y_val)\n",
        "\n",
        "print(\"Validation Loss:\", validation_loss)\n",
        "print(\"Validation Accuracy:\", validation_accuracy)\n"
      ]
    },
    {
      "cell_type": "code",
      "execution_count": 48,
      "metadata": {
        "colab": {
          "base_uri": "https://localhost:8080/"
        },
        "id": "jdmhUtzb86Qk",
        "outputId": "6c038427-c76b-4fe6-ea6f-bdd8aa61bfb0"
      },
      "outputs": [
        {
          "output_type": "stream",
          "name": "stdout",
          "text": [
            "12/12 [==============================] - 1s 128ms/step\n",
            "Accuracy on validation set: 90.28%\n",
            "     Actual  Predicted\n",
            "0 -0.079766  -0.079766\n",
            "1  0.079766   0.079766\n",
            "2  0.000000   0.000000\n",
            "3  0.000000   0.000000\n",
            "4  0.079766   0.079766\n"
          ]
        }
      ],
      "source": [
        "# Predict the angular_z values for the validation images\n",
        "y_val_pred_prob = model.predict(X_val)\n",
        "\n",
        "# Convert the predictions to label indices\n",
        "y_val_pred_indices = np.argmax(y_val_pred_prob, axis=1)\n",
        "\n",
        "# Convert the label indices back to original angular_z values\n",
        "y_val_pred = label_encoder.inverse_transform(y_val_pred_indices)\n",
        "\n",
        "# Convert the one-hot encoded y_val back to original angular_z values\n",
        "y_val_original = label_encoder.inverse_transform(np.argmax(y_val, axis=1))\n",
        "\n",
        "# Calculate the accuracy\n",
        "accuracy = np.mean(y_val_original == y_val_pred)\n",
        "print(f\"Accuracy on validation set: {accuracy:.2%}\")\n",
        "\n",
        "# Compare the actual angular_z with the predicted angular_z\n",
        "comparison = pd.DataFrame({\"Actual\": y_val_original, \"Predicted\": y_val_pred})\n",
        "print(comparison.head())\n"
      ]
    },
    {
      "cell_type": "code",
      "execution_count": 49,
      "metadata": {
        "colab": {
          "base_uri": "https://localhost:8080/",
          "height": 677
        },
        "id": "DXY77boJBkQD",
        "outputId": "ac50e860-3bf3-40bd-889a-7541d59106b8"
      },
      "outputs": [
        {
          "output_type": "execute_result",
          "data": {
            "text/plain": [
              "      Actual  Predicted\n",
              "0  -0.079766  -0.079766\n",
              "1   0.079766   0.079766\n",
              "2   0.000000   0.000000\n",
              "3   0.000000   0.000000\n",
              "4   0.079766   0.079766\n",
              "5   0.000000   0.000000\n",
              "6   0.000000   0.000000\n",
              "7   0.000000   0.000000\n",
              "8  -0.079766  -0.079766\n",
              "9   0.079766   0.079766\n",
              "10 -0.079766  -0.079766\n",
              "11  0.079766   0.079766\n",
              "12  0.079766   0.079766\n",
              "13  0.079766   0.079766\n",
              "14  0.000000   0.000000\n",
              "15  0.079766   0.079766\n",
              "16  0.000000   0.000000\n",
              "17  0.079766   0.079766\n",
              "18  0.000000   0.000000\n",
              "19 -0.079766  -0.079766"
            ],
            "text/html": [
              "\n",
              "  <div id=\"df-edaa50cb-9d03-4ce8-af02-e5194f409796\">\n",
              "    <div class=\"colab-df-container\">\n",
              "      <div>\n",
              "<style scoped>\n",
              "    .dataframe tbody tr th:only-of-type {\n",
              "        vertical-align: middle;\n",
              "    }\n",
              "\n",
              "    .dataframe tbody tr th {\n",
              "        vertical-align: top;\n",
              "    }\n",
              "\n",
              "    .dataframe thead th {\n",
              "        text-align: right;\n",
              "    }\n",
              "</style>\n",
              "<table border=\"1\" class=\"dataframe\">\n",
              "  <thead>\n",
              "    <tr style=\"text-align: right;\">\n",
              "      <th></th>\n",
              "      <th>Actual</th>\n",
              "      <th>Predicted</th>\n",
              "    </tr>\n",
              "  </thead>\n",
              "  <tbody>\n",
              "    <tr>\n",
              "      <th>0</th>\n",
              "      <td>-0.079766</td>\n",
              "      <td>-0.079766</td>\n",
              "    </tr>\n",
              "    <tr>\n",
              "      <th>1</th>\n",
              "      <td>0.079766</td>\n",
              "      <td>0.079766</td>\n",
              "    </tr>\n",
              "    <tr>\n",
              "      <th>2</th>\n",
              "      <td>0.000000</td>\n",
              "      <td>0.000000</td>\n",
              "    </tr>\n",
              "    <tr>\n",
              "      <th>3</th>\n",
              "      <td>0.000000</td>\n",
              "      <td>0.000000</td>\n",
              "    </tr>\n",
              "    <tr>\n",
              "      <th>4</th>\n",
              "      <td>0.079766</td>\n",
              "      <td>0.079766</td>\n",
              "    </tr>\n",
              "    <tr>\n",
              "      <th>5</th>\n",
              "      <td>0.000000</td>\n",
              "      <td>0.000000</td>\n",
              "    </tr>\n",
              "    <tr>\n",
              "      <th>6</th>\n",
              "      <td>0.000000</td>\n",
              "      <td>0.000000</td>\n",
              "    </tr>\n",
              "    <tr>\n",
              "      <th>7</th>\n",
              "      <td>0.000000</td>\n",
              "      <td>0.000000</td>\n",
              "    </tr>\n",
              "    <tr>\n",
              "      <th>8</th>\n",
              "      <td>-0.079766</td>\n",
              "      <td>-0.079766</td>\n",
              "    </tr>\n",
              "    <tr>\n",
              "      <th>9</th>\n",
              "      <td>0.079766</td>\n",
              "      <td>0.079766</td>\n",
              "    </tr>\n",
              "    <tr>\n",
              "      <th>10</th>\n",
              "      <td>-0.079766</td>\n",
              "      <td>-0.079766</td>\n",
              "    </tr>\n",
              "    <tr>\n",
              "      <th>11</th>\n",
              "      <td>0.079766</td>\n",
              "      <td>0.079766</td>\n",
              "    </tr>\n",
              "    <tr>\n",
              "      <th>12</th>\n",
              "      <td>0.079766</td>\n",
              "      <td>0.079766</td>\n",
              "    </tr>\n",
              "    <tr>\n",
              "      <th>13</th>\n",
              "      <td>0.079766</td>\n",
              "      <td>0.079766</td>\n",
              "    </tr>\n",
              "    <tr>\n",
              "      <th>14</th>\n",
              "      <td>0.000000</td>\n",
              "      <td>0.000000</td>\n",
              "    </tr>\n",
              "    <tr>\n",
              "      <th>15</th>\n",
              "      <td>0.079766</td>\n",
              "      <td>0.079766</td>\n",
              "    </tr>\n",
              "    <tr>\n",
              "      <th>16</th>\n",
              "      <td>0.000000</td>\n",
              "      <td>0.000000</td>\n",
              "    </tr>\n",
              "    <tr>\n",
              "      <th>17</th>\n",
              "      <td>0.079766</td>\n",
              "      <td>0.079766</td>\n",
              "    </tr>\n",
              "    <tr>\n",
              "      <th>18</th>\n",
              "      <td>0.000000</td>\n",
              "      <td>0.000000</td>\n",
              "    </tr>\n",
              "    <tr>\n",
              "      <th>19</th>\n",
              "      <td>-0.079766</td>\n",
              "      <td>-0.079766</td>\n",
              "    </tr>\n",
              "  </tbody>\n",
              "</table>\n",
              "</div>\n",
              "      <button class=\"colab-df-convert\" onclick=\"convertToInteractive('df-edaa50cb-9d03-4ce8-af02-e5194f409796')\"\n",
              "              title=\"Convert this dataframe to an interactive table.\"\n",
              "              style=\"display:none;\">\n",
              "        \n",
              "  <svg xmlns=\"http://www.w3.org/2000/svg\" height=\"24px\"viewBox=\"0 0 24 24\"\n",
              "       width=\"24px\">\n",
              "    <path d=\"M0 0h24v24H0V0z\" fill=\"none\"/>\n",
              "    <path d=\"M18.56 5.44l.94 2.06.94-2.06 2.06-.94-2.06-.94-.94-2.06-.94 2.06-2.06.94zm-11 1L8.5 8.5l.94-2.06 2.06-.94-2.06-.94L8.5 2.5l-.94 2.06-2.06.94zm10 10l.94 2.06.94-2.06 2.06-.94-2.06-.94-.94-2.06-.94 2.06-2.06.94z\"/><path d=\"M17.41 7.96l-1.37-1.37c-.4-.4-.92-.59-1.43-.59-.52 0-1.04.2-1.43.59L10.3 9.45l-7.72 7.72c-.78.78-.78 2.05 0 2.83L4 21.41c.39.39.9.59 1.41.59.51 0 1.02-.2 1.41-.59l7.78-7.78 2.81-2.81c.8-.78.8-2.07 0-2.86zM5.41 20L4 18.59l7.72-7.72 1.47 1.35L5.41 20z\"/>\n",
              "  </svg>\n",
              "      </button>\n",
              "      \n",
              "  <style>\n",
              "    .colab-df-container {\n",
              "      display:flex;\n",
              "      flex-wrap:wrap;\n",
              "      gap: 12px;\n",
              "    }\n",
              "\n",
              "    .colab-df-convert {\n",
              "      background-color: #E8F0FE;\n",
              "      border: none;\n",
              "      border-radius: 50%;\n",
              "      cursor: pointer;\n",
              "      display: none;\n",
              "      fill: #1967D2;\n",
              "      height: 32px;\n",
              "      padding: 0 0 0 0;\n",
              "      width: 32px;\n",
              "    }\n",
              "\n",
              "    .colab-df-convert:hover {\n",
              "      background-color: #E2EBFA;\n",
              "      box-shadow: 0px 1px 2px rgba(60, 64, 67, 0.3), 0px 1px 3px 1px rgba(60, 64, 67, 0.15);\n",
              "      fill: #174EA6;\n",
              "    }\n",
              "\n",
              "    [theme=dark] .colab-df-convert {\n",
              "      background-color: #3B4455;\n",
              "      fill: #D2E3FC;\n",
              "    }\n",
              "\n",
              "    [theme=dark] .colab-df-convert:hover {\n",
              "      background-color: #434B5C;\n",
              "      box-shadow: 0px 1px 3px 1px rgba(0, 0, 0, 0.15);\n",
              "      filter: drop-shadow(0px 1px 2px rgba(0, 0, 0, 0.3));\n",
              "      fill: #FFFFFF;\n",
              "    }\n",
              "  </style>\n",
              "\n",
              "      <script>\n",
              "        const buttonEl =\n",
              "          document.querySelector('#df-edaa50cb-9d03-4ce8-af02-e5194f409796 button.colab-df-convert');\n",
              "        buttonEl.style.display =\n",
              "          google.colab.kernel.accessAllowed ? 'block' : 'none';\n",
              "\n",
              "        async function convertToInteractive(key) {\n",
              "          const element = document.querySelector('#df-edaa50cb-9d03-4ce8-af02-e5194f409796');\n",
              "          const dataTable =\n",
              "            await google.colab.kernel.invokeFunction('convertToInteractive',\n",
              "                                                     [key], {});\n",
              "          if (!dataTable) return;\n",
              "\n",
              "          const docLinkHtml = 'Like what you see? Visit the ' +\n",
              "            '<a target=\"_blank\" href=https://colab.research.google.com/notebooks/data_table.ipynb>data table notebook</a>'\n",
              "            + ' to learn more about interactive tables.';\n",
              "          element.innerHTML = '';\n",
              "          dataTable['output_type'] = 'display_data';\n",
              "          await google.colab.output.renderOutput(dataTable, element);\n",
              "          const docLink = document.createElement('div');\n",
              "          docLink.innerHTML = docLinkHtml;\n",
              "          element.appendChild(docLink);\n",
              "        }\n",
              "      </script>\n",
              "    </div>\n",
              "  </div>\n",
              "  "
            ]
          },
          "metadata": {},
          "execution_count": 49
        }
      ],
      "source": [
        "comparison.head(20)"
      ]
    },
    {
      "cell_type": "markdown",
      "metadata": {
        "id": "ddnRIK_VCfPo"
      },
      "source": [
        "## Test the transfer learning model"
      ]
    },
    {
      "cell_type": "code",
      "execution_count": 50,
      "metadata": {
        "colab": {
          "base_uri": "https://localhost:8080/"
        },
        "id": "W4WQNVzfDKJY",
        "outputId": "f5ab0f7c-6f93-4c32-b116-8eabb63da169"
      },
      "outputs": [
        {
          "output_type": "stream",
          "name": "stderr",
          "text": [
            "<ipython-input-50-14c3dd6479d6>:8: FutureWarning: The default value of regex will change from True to False in a future version.\n",
            "  test_df['image_path'] = '/content/drive/MyDrive/data_egr598/main_data/maindata/data/' + test_df['image_path'].str.replace('.png', '.png')\n"
          ]
        }
      ],
      "source": [
        "test_df=pd.read_csv('/content/drive/MyDrive/data_egr598/main_data/maindata/data/data.csv')\n",
        "\n",
        "# Remove the 'data/' prefix from the image_path column\n",
        "test_df['image_path'] = test_df['image_path'].str.replace('data/', '')\n",
        "\n",
        "\n",
        "# Add the '/content/drive/MyDrive/data_egr598/' prefix to the image_path column\n",
        "test_df['image_path'] = '/content/drive/MyDrive/data_egr598/main_data/maindata/data/' + test_df['image_path'].str.replace('.png', '.png')\n"
      ]
    },
    {
      "cell_type": "code",
      "execution_count": 51,
      "metadata": {
        "colab": {
          "base_uri": "https://localhost:8080/",
          "height": 35
        },
        "id": "UT1O08UtDd8V",
        "outputId": "b96dfdee-81b2-41d2-f226-15da45ea46c7"
      },
      "outputs": [
        {
          "output_type": "execute_result",
          "data": {
            "text/plain": [
              "'/content/drive/MyDrive/data_egr598/main_data/maindata/data/1681957757.573238.png'"
            ],
            "application/vnd.google.colaboratory.intrinsic+json": {
              "type": "string"
            }
          },
          "metadata": {},
          "execution_count": 51
        }
      ],
      "source": [
        "test_df['image_path'][1]"
      ]
    },
    {
      "cell_type": "code",
      "execution_count": 52,
      "metadata": {
        "colab": {
          "base_uri": "https://localhost:8080/"
        },
        "id": "BJ2fCMz4DfsA",
        "outputId": "e36ee5a7-3afa-452c-f3cd-6b614b868de5"
      },
      "outputs": [
        {
          "output_type": "stream",
          "name": "stdout",
          "text": [
            "<class 'pandas.core.frame.DataFrame'>\n",
            "RangeIndex: 1798 entries, 0 to 1797\n",
            "Data columns (total 4 columns):\n",
            " #   Column      Non-Null Count  Dtype  \n",
            "---  ------      --------------  -----  \n",
            " 0   timestamp   1798 non-null   float64\n",
            " 1   image_path  1798 non-null   object \n",
            " 2   linear_x    1798 non-null   float64\n",
            " 3   angular_z   1798 non-null   float64\n",
            "dtypes: float64(3), object(1)\n",
            "memory usage: 56.3+ KB\n"
          ]
        }
      ],
      "source": [
        "test_df.info()"
      ]
    },
    {
      "cell_type": "code",
      "execution_count": 53,
      "metadata": {
        "colab": {
          "base_uri": "https://localhost:8080/"
        },
        "id": "D0-y-AUIFaoQ",
        "outputId": "accde44d-a21e-4a5d-9dd7-fee4dd166d38"
      },
      "outputs": [
        {
          "output_type": "stream",
          "name": "stderr",
          "text": [
            "Processing images: 100%|██████████| 1798/1798 [00:04<00:00, 373.87it/s]\n"
          ]
        },
        {
          "output_type": "stream",
          "name": "stdout",
          "text": [
            "57/57 [==============================] - 7s 130ms/step\n",
            "Accuracy on test set: 88.21%\n",
            "   Actual  Predicted\n",
            "0     0.0        0.0\n",
            "1     0.0        0.0\n",
            "2     0.0        0.0\n",
            "3     0.0        0.0\n",
            "4     0.0        0.0\n"
          ]
        }
      ],
      "source": [
        "import pandas as pd\n",
        "import numpy as np\n",
        "from sklearn.preprocessing import LabelEncoder\n",
        "from sklearn.metrics import accuracy_score\n",
        "from tensorflow.keras.preprocessing.image import load_img, img_to_array\n",
        "from tensorflow.keras.utils import to_categorical\n",
        "from tqdm import tqdm  # Import the tqdm library\n",
        "from concurrent.futures import ThreadPoolExecutor\n",
        "\n",
        "# Preprocess the images\n",
        "def preprocess_image(image_path, target_size=(224, 224)):\n",
        "    img = load_img(image_path, target_size=target_size)\n",
        "    img_array = img_to_array(img) / 255.0\n",
        "    return img_array\n",
        "\n",
        "# Process images in parallel\n",
        "def process_images_parallel(image_paths, target_size=(224, 224)):\n",
        "    with ThreadPoolExecutor() as executor:\n",
        "        futures = [executor.submit(preprocess_image, img_path, target_size) for img_path in image_paths]\n",
        "        results = [f.result() for f in tqdm(futures, desc=\"Processing images\")]\n",
        "    return results\n",
        "\n",
        "images = np.array(process_images_parallel(test_df[\"image_path\"]))\n",
        "\n",
        "# Preprocess the labels\n",
        "label_encoder = LabelEncoder()\n",
        "labels = label_encoder.fit_transform(test_df[\"angular_z\"])\n",
        "labels = to_categorical(labels)\n",
        "\n",
        "# Assuming the images are loaded and preprocessed into X_test and corresponding angular_z values are in y_test\n",
        "X_test, y_test = images, labels\n",
        "\n",
        "# Predict the angular_z values for the test images\n",
        "y_test_pred_prob = model.predict(X_test)\n",
        "\n",
        "# Convert the predictions to label indices\n",
        "y_test_pred_indices = np.argmax(y_test_pred_prob, axis=1)\n",
        "\n",
        "# Convert the label indices back to original angular_z values\n",
        "y_test_pred = label_encoder.inverse_transform(y_test_pred_indices)\n",
        "\n",
        "# Convert the one-hot encoded y_test back to original angular_z values\n",
        "y_test_original = label_encoder.inverse_transform(np.argmax(y_test, axis=1))\n",
        "\n",
        "# Calculate the accuracy\n",
        "accuracy = np.mean(y_test_original == y_test_pred)\n",
        "print(f\"Accuracy on test set: {accuracy:.2%}\")\n",
        "\n",
        "# Compare the actual angular_z with the predicted angular_z\n",
        "comparison = pd.DataFrame({\"Actual\": y_test_original, \"Predicted\": y_test_pred})\n",
        "print(comparison.head())\n"
      ]
    },
    {
      "cell_type": "code",
      "execution_count": null,
      "metadata": {
        "id": "COcWuIvwF3WW"
      },
      "outputs": [],
      "source": [
        "# Find the mismatched rows\n",
        "mismatches = comparison[comparison[\"Actual\"] != comparison[\"Predicted\"]]\n",
        "mismatches"
      ]
    },
    {
      "cell_type": "code",
      "execution_count": 54,
      "metadata": {
        "id": "is8V4vehGJA_",
        "colab": {
          "base_uri": "https://localhost:8080/"
        },
        "outputId": "05e0e6e5-890b-4c41-9931-77b326f8a75c"
      },
      "outputs": [
        {
          "output_type": "stream",
          "name": "stdout",
          "text": [
            "<class 'pandas.core.frame.DataFrame'>\n",
            "RangeIndex: 1798 entries, 0 to 1797\n",
            "Data columns (total 4 columns):\n",
            " #   Column      Non-Null Count  Dtype  \n",
            "---  ------      --------------  -----  \n",
            " 0   timestamp   1798 non-null   float64\n",
            " 1   image_path  1798 non-null   object \n",
            " 2   linear_x    1798 non-null   float64\n",
            " 3   angular_z   1798 non-null   float64\n",
            "dtypes: float64(3), object(1)\n",
            "memory usage: 56.3+ KB\n"
          ]
        }
      ],
      "source": [
        "test_df.info()"
      ]
    },
    {
      "cell_type": "markdown",
      "source": [
        "# Transfer learning model with data augmentation"
      ],
      "metadata": {
        "id": "wf0axkyROPu1"
      }
    },
    {
      "cell_type": "code",
      "source": [
        "import tensorflow as tf\n",
        "from tensorflow.keras.models import Sequential\n",
        "from tensorflow.keras.layers import Dense, Flatten, Dropout, Activation\n",
        "from tensorflow.keras.preprocessing.image import ImageDataGenerator\n",
        "from tensorflow.keras.callbacks import LearningRateScheduler, EarlyStopping\n",
        "from tensorflow.keras.applications import VGG16\n",
        "from tensorflow.keras.layers import LeakyReLU, ELU\n",
        "from tensorflow.keras.optimizers import Adam, SGD, RMSprop, Adagrad, Adadelta\n",
        "\n",
        "# Load the VGG16 model\n",
        "base_model = VGG16(weights=\"imagenet\", include_top=False, input_shape=(224, 224, 3))\n",
        "\n",
        "# Freeze the pre-trained layers\n",
        "for layer in base_model.layers:\n",
        "    layer.trainable = False\n",
        "\n",
        "# Data augmentation\n",
        "datagen = ImageDataGenerator(\n",
        "    rotation_range=20,\n",
        "    width_shift_range=0.1,\n",
        "    height_shift_range=0.1,\n",
        "    shear_range=0.2,\n",
        "    zoom_range=0.2,\n",
        "    horizontal_flip=True,\n",
        "    fill_mode='nearest')\n",
        "\n",
        "# Learning rate scheduling\n",
        "def lr_scheduler(epoch, lr):\n",
        "    if epoch < 5:\n",
        "        return lr\n",
        "    else:\n",
        "        return lr * tf.math.exp(-0.1)\n",
        "\n",
        "lr_callback = LearningRateScheduler(lr_scheduler)\n",
        "\n",
        "# Early stopping\n",
        "early_stopping = EarlyStopping(monitor='val_loss', patience=5)\n",
        "\n",
        "# Create and train model function\n",
        "def create_and_train_model(activation, optimizer):\n",
        "    if activation == \"leaky_relu\":\n",
        "        activation_layer = LeakyReLU(alpha=0.1)\n",
        "    elif activation == \"elu\":\n",
        "        activation_layer = ELU()\n",
        "    elif activation == \"sigmoid\":\n",
        "        activation_layer = Activation('sigmoid')\n",
        "    elif activation == \"tanh\":\n",
        "        activation_layer = Activation('tanh')\n",
        "    else:  # Default is ReLU\n",
        "        activation_layer = Activation('relu')\n",
        "\n",
        "    model = Sequential([\n",
        "        base_model,\n",
        "        Flatten(),\n",
        "        Dense(512),\n",
        "        activation_layer,\n",
        "        Dropout(0.5),\n",
        "        Dense(3, activation='softmax')\n",
        "    ])\n",
        "\n",
        "    model.compile(optimizer=optimizer, loss='categorical_crossentropy', metrics=['accuracy'])\n",
        "\n",
        "    history = model.fit(datagen.flow(X_train, y_train, batch_size=32),\n",
        "                        epochs=10,\n",
        "                        validation_data=(X_val, y_val),\n",
        "                        callbacks=[lr_callback, early_stopping])\n",
        "    \n",
        "    return history, model\n",
        "\n",
        "# Create a list of activation functions and optimizers to test\n",
        "activation_functions = [\"relu\", \"leaky_relu\", \"elu\", \"sigmoid\", \"tanh\"]\n",
        "optimizers = [Adam(), SGD(), RMSprop(), Adagrad(), Adadelta()]\n",
        "\n",
        "best_model = None\n",
        "best_history = None\n",
        "best_accuracy = 0\n",
        "\n",
        "# Test all combinations of activation functions and optimizers\n",
        "for activation in activation_functions:\n",
        "    for optimizer in optimizers:\n",
        "        print(f\"Testing model with activation={activation} and optimizer={optimizer.__class__.__name__}\")\n",
        "        history, model = create_and_train_model(activation, optimizer)\n",
        "        val_accuracy = history.history['val_accuracy'][-1]\n",
        "        \n",
        "        if val_accuracy > best_accuracy:\n",
        "            best_model = model\n",
        "            best_history = history\n",
        "            best_accuracy = val_accuracy\n",
        "            print(f\"New best model found with val_accuracy={best_accuracy}\")\n",
        "\n",
        "print(\"Training complete. Best model has activation={} and optimizer={}\".format(\n",
        "    best_model.layers[2].__class__.__name__, best_model.optimizer.__class__.__name__))\n"
      ],
      "metadata": {
        "colab": {
          "base_uri": "https://localhost:8080/"
        },
        "id": "xgDkmZs6ZnNF",
        "outputId": "ae928121-f2df-4053-ebf4-322193a08728"
      },
      "execution_count": null,
      "outputs": [
        {
          "output_type": "stream",
          "name": "stdout",
          "text": [
            "Testing model with activation=relu and optimizer=Adam\n",
            "Epoch 1/10\n",
            "45/45 [==============================] - 25s 531ms/step - loss: 2.1010 - accuracy: 0.5250 - val_loss: 0.5839 - val_accuracy: 0.7556 - lr: 0.0010\n",
            "Epoch 2/10\n",
            "45/45 [==============================] - 20s 433ms/step - loss: 0.7601 - accuracy: 0.6542 - val_loss: 0.5209 - val_accuracy: 0.8028 - lr: 0.0010\n",
            "Epoch 3/10\n",
            "45/45 [==============================] - 22s 476ms/step - loss: 0.6762 - accuracy: 0.6819 - val_loss: 0.4639 - val_accuracy: 0.7917 - lr: 0.0010\n",
            "Epoch 4/10\n",
            "45/45 [==============================] - 21s 469ms/step - loss: 0.6228 - accuracy: 0.7222 - val_loss: 0.4317 - val_accuracy: 0.8278 - lr: 0.0010\n",
            "Epoch 5/10\n",
            "45/45 [==============================] - 21s 473ms/step - loss: 0.5930 - accuracy: 0.7354 - val_loss: 0.4072 - val_accuracy: 0.8278 - lr: 0.0010\n",
            "Epoch 6/10\n",
            "45/45 [==============================] - 21s 468ms/step - loss: 0.5157 - accuracy: 0.7618 - val_loss: 0.3978 - val_accuracy: 0.8250 - lr: 9.0484e-04\n",
            "Epoch 7/10\n",
            "45/45 [==============================] - 21s 464ms/step - loss: 0.4756 - accuracy: 0.8042 - val_loss: 0.3407 - val_accuracy: 0.8667 - lr: 8.1873e-04\n",
            "Epoch 8/10\n",
            "45/45 [==============================] - 20s 455ms/step - loss: 0.4906 - accuracy: 0.7896 - val_loss: 0.4195 - val_accuracy: 0.7972 - lr: 7.4082e-04\n",
            "Epoch 9/10\n",
            "45/45 [==============================] - 21s 464ms/step - loss: 0.4617 - accuracy: 0.7986 - val_loss: 0.3336 - val_accuracy: 0.8500 - lr: 6.7032e-04\n",
            "Epoch 10/10\n",
            "45/45 [==============================] - 22s 481ms/step - loss: 0.4498 - accuracy: 0.8000 - val_loss: 0.2973 - val_accuracy: 0.8694 - lr: 6.0653e-04\n",
            "New best model found with val_accuracy=0.8694444298744202\n",
            "Testing model with activation=relu and optimizer=SGD\n",
            "Epoch 1/10\n",
            "45/45 [==============================] - 22s 472ms/step - loss: 1.4202 - accuracy: 0.4611 - val_loss: 1.0034 - val_accuracy: 0.5056 - lr: 0.0100\n",
            "Epoch 2/10\n",
            "45/45 [==============================] - 20s 453ms/step - loss: 1.0214 - accuracy: 0.4938 - val_loss: 0.9645 - val_accuracy: 0.5556 - lr: 0.0100\n",
            "Epoch 3/10\n",
            "45/45 [==============================] - 21s 468ms/step - loss: 1.0061 - accuracy: 0.5104 - val_loss: 0.9318 - val_accuracy: 0.5056 - lr: 0.0100\n",
            "Epoch 4/10\n",
            "45/45 [==============================] - 20s 436ms/step - loss: 0.9838 - accuracy: 0.5090 - val_loss: 0.8960 - val_accuracy: 0.5056 - lr: 0.0100\n",
            "Epoch 5/10\n",
            "45/45 [==============================] - 20s 432ms/step - loss: 0.9485 - accuracy: 0.5243 - val_loss: 0.8611 - val_accuracy: 0.5611 - lr: 0.0100\n",
            "Epoch 6/10\n",
            "45/45 [==============================] - 21s 464ms/step - loss: 0.9541 - accuracy: 0.5292 - val_loss: 0.8431 - val_accuracy: 0.5722 - lr: 0.0090\n",
            "Epoch 7/10\n",
            "24/45 [===============>..............] - ETA: 9s - loss: 0.9232 - accuracy: 0.5365"
          ]
        }
      ]
    },
    {
      "cell_type": "code",
      "source": [],
      "metadata": {
        "id": "tA9sJmaKQsKo"
      },
      "execution_count": null,
      "outputs": []
    },
    {
      "cell_type": "code",
      "source": [],
      "metadata": {
        "id": "ZykbNJHBQsNI"
      },
      "execution_count": null,
      "outputs": []
    }
  ],
  "metadata": {
    "colab": {
      "provenance": []
    },
    "gpuClass": "standard",
    "kernelspec": {
      "display_name": "Python 3",
      "name": "python3"
    },
    "language_info": {
      "name": "python"
    },
    "accelerator": "GPU"
  },
  "nbformat": 4,
  "nbformat_minor": 0
}